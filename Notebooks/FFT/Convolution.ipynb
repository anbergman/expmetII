{
 "cells": [
  {
   "cell_type": "code",
   "execution_count": null,
   "id": "4958230e",
   "metadata": {},
   "outputs": [],
   "source": [
    "import numpy as np\n",
    "import matplotlib.pyplot as plt"
   ]
  },
  {
   "cell_type": "code",
   "execution_count": null,
   "id": "2a9cfe98",
   "metadata": {},
   "outputs": [],
   "source": [
    "dos=np.genfromtxt('../../Data/FFT/diamond.dos')\n",
    "e=dos[:,0]\n",
    "d=dos[:,1]"
   ]
  },
  {
   "cell_type": "code",
   "execution_count": null,
   "id": "56765c9f",
   "metadata": {},
   "outputs": [],
   "source": [
    "x=np.linspace(-4,4,100)\n",
    "sigma=1\n",
    "k=np.exp(-(x/sigma)**2)"
   ]
  },
  {
   "cell_type": "code",
   "execution_count": null,
   "id": "9e9ea887",
   "metadata": {},
   "outputs": [],
   "source": [
    "plt.figure()\n",
    "plt.plot(x,k)\n",
    "plt.show()"
   ]
  },
  {
   "cell_type": "code",
   "execution_count": null,
   "id": "17b63beb",
   "metadata": {},
   "outputs": [],
   "source": [
    "plt.figure()\n",
    "plt.plot(e,d)\n",
    "plt.show()"
   ]
  },
  {
   "cell_type": "code",
   "execution_count": null,
   "id": "55bc54c5",
   "metadata": {},
   "outputs": [],
   "source": [
    "l=d.shape[0]+k.shape[0]\n",
    "K=np.fft.fft(k,n=l)\n",
    "D=np.fft.fft(d,n=l)\n",
    "DK=D*K\n",
    "dk=np.abs(np.fft.ifft(DK))"
   ]
  },
  {
   "cell_type": "code",
   "execution_count": null,
   "id": "f9601c31",
   "metadata": {},
   "outputs": [],
   "source": [
    "plt.figure()\n",
    "plt.plot(dk)\n",
    "plt.show()"
   ]
  },
  {
   "cell_type": "code",
   "execution_count": null,
   "id": "8adff1c1",
   "metadata": {},
   "outputs": [],
   "source": []
  },
  {
   "cell_type": "code",
   "execution_count": null,
   "id": "9eb0ad3a",
   "metadata": {},
   "outputs": [],
   "source": []
  }
 ],
 "metadata": {
  "kernelspec": {
   "display_name": "Python 3 (ipykernel)",
   "language": "python",
   "name": "python3"
  },
  "language_info": {
   "codemirror_mode": {
    "name": "ipython",
    "version": 3
   },
   "file_extension": ".py",
   "mimetype": "text/x-python",
   "name": "python",
   "nbconvert_exporter": "python",
   "pygments_lexer": "ipython3",
   "version": "3.9.13"
  }
 },
 "nbformat": 4,
 "nbformat_minor": 5
}
